{
  "nbformat": 4,
  "nbformat_minor": 0,
  "metadata": {
    "colab": {
      "name": "NLP Model.ipynb",
      "provenance": [],
      "collapsed_sections": [],
      "authorship_tag": "ABX9TyNKq4DMSsO7n2DnoTd3C8nn",
      "include_colab_link": true
    },
    "kernelspec": {
      "name": "python3",
      "display_name": "Python 3"
    }
  },
  "cells": [
    {
      "cell_type": "markdown",
      "metadata": {
        "id": "view-in-github",
        "colab_type": "text"
      },
      "source": [
        "<a href=\"https://colab.research.google.com/github/NidaShaikh54/vaani-nlp/blob/master/NLP_Model.ipynb\" target=\"_parent\"><img src=\"https://colab.research.google.com/assets/colab-badge.svg\" alt=\"Open In Colab\"/></a>"
      ]
    },
    {
      "cell_type": "markdown",
      "metadata": {
        "id": "Iy931KB83ZDL",
        "colab_type": "text"
      },
      "source": [
        "# **Named Entity Recognition for detecting Medical Data**\n",
        "This notebook detects  \n",
        "\n",
        "*   Symptoms (like cough, cold, etc)\n",
        "*   Disease Name (malaria, diarrhoea, etc)\n",
        "*   History (past 2/3/4 days)\n",
        "*   Interval (twice a day, 2 times a day, etc)\n",
        "*   Duration (a week, a month, for n days)\n",
        "\n",
        "from the sentences by the doctor\n",
        "\n",
        "\n"
      ]
    },
    {
      "cell_type": "markdown",
      "metadata": {
        "id": "FcR-GMfq5Zco",
        "colab_type": "text"
      },
      "source": [
        "## Let's get started!\n",
        "\n",
        "1. Import necessary libraries"
      ]
    },
    {
      "cell_type": "code",
      "metadata": {
        "id": "aaDKAcZPN3wd",
        "colab_type": "code",
        "colab": {}
      },
      "source": [
        "import spacy\n",
        "import random"
      ],
      "execution_count": 0,
      "outputs": []
    },
    {
      "cell_type": "markdown",
      "metadata": {
        "id": "l_74pMEE5wNx",
        "colab_type": "text"
      },
      "source": [
        "2. The Code for training"
      ]
    },
    {
      "cell_type": "code",
      "metadata": {
        "id": "pkFz29PimKDY",
        "colab_type": "code",
        "outputId": "035080e3-07f5-4489-ae83-7e548244d85a",
        "colab": {
          "base_uri": "https://localhost:8080/",
          "height": 1000
        }
      },
      "source": [
        "TRAIN_DATA = [('patient name is shubham karande he has loose motion from past 5 days I would suggest him to take konichiwa 50mg alongwith flutter eyedrops for 10 years three times a day\\r', {'entities': [(39, 51, 'DIAGNOSIS'), (57, 68, 'HISTORY'), (97, 111, 'MEDNAME'), (122, 138, 'MEDNAME'), (143, 151, 'DURATION'), (152, 169, 'INTERVAL')]}), ('patient name is shubham karande he has loose motion from past 5 days I would suggest to take kongota 40mg and figma eye drops for 11 months two times a day\\r', {'entities': [(39, 51, 'DIAGNOSIS'), (57, 68, 'HISTORY'), (93, 105, 'MEDNAME'), (110, 125, 'MEDNAME'), (130, 139, 'DURATION'), (140, 155, 'INTERVAL')]}), ('name is shubham karande he has cough and cold since 6 days I would suggest him to take kawaai 90mg also eyedrops for 6 days thrice a day\\r', {'entities': [(31, 36, 'SYMPTOM'), (41, 45, 'SYMPTOM'), (46, 58, 'HISTORY'), (87, 98, 'MEDNAME'), (104, 112, 'MEDNAME'), (52, 58, 'DURATION'), (124, 136, 'INTERVAL')]}),('Nida is practicing football daily for a championship but has sadly hurt her left arm because of a fall The pain is is intense and causing fatigue She should avoid playing use glycomet ointment on the affected area and have a baciclox tablet as painkiller every night before sleeping\\r', {'entities': [(107, 111, 'SYMPTOM'), (138, 145, 'SYMPTOM'), (175, 183, 'MEDNAME'), (225, 233, 'MEDNAME'), (255, 266, 'INTERVAL'), (267, 282, 'BEFAF')]}), ('Raju is very tired from his daily life because of overwork and needs vitamin supplements He is  advised to take some revital tablets to regain his energy every morning for 6 months\\r', {'entities': [(69, 88, 'MEDNAME'), (117, 124, 'MEDNAME'), (154, 167, 'INTERVAL'), (172, 180, 'DURATION')]}), ('Mohan is sick from bronchitis and needs decon nasal drops He is  advised to take some fluvoxin tablets to be able to sleep properly \\r', {'entities': [(19, 29, 'DIAGNOSIS'), (40, 57, 'MEDNAME'), (86, 94, 'MEDNAME')]}), ('pelvic pain which resulted in amenorrhea occurred to Priya She is advised to take cydroxil tablets 200mg after dinner for a day and azithral tablets early morning after waking up for 2 weeks\\r', {'entities': [(0, 11, 'SYMPTOM'), (30, 40, 'DIAGNOSIS'), (82, 104, 'MEDNAME'), (105, 117, 'BEFAF'), (122, 127, 'DURATION'), (132, 140, 'MEDNAME'), (163, 178, 'BEFAF'), (183, 190, 'DURATION')]}), ('Dystonia which resulted in hyperkinetic movement disorder occurred to Jay He is advised to take glimitab tablets three in number twice a day after lunch and after dinner for a seven days and dulcolax tablets early morning after waking up for 20 days\\r', {'entities': [(0, 8, 'SYMPTOM'), (27, 57, 'DIAGNOSIS'), (96, 104, 'MEDNAME'), (129, 140, 'INTERVAL'), (141, 152, 'BEFAF'), (157, 169, 'BEFAF'), (176, 186, 'DURATION'), (191, 199, 'MEDNAME'), (222, 237, 'BEFAF'), (242, 249, 'DURATION')]}), ('fecal incontinence which resulted in abdominal pain occurred to Raju He is advised to take adflucon tablets 200mg whenever he is in pain and amaday tablets early morning after breakfast for 2 weeks\\r', {'entities': [(0, 18, 'SYMPTOM'), (37, 51, 'DIAGNOSIS'), (91, 113, 'MEDNAME'), (141, 147, 'MEDNAME'), (170, 185, 'BEFAF'), (190, 197, 'DURATION')]}), ('Nida has caught a cold and has minor headache, Maybe she had some extra icecream and cheesecake yesterday  She should consider taking sylonex daily afternoon after lunch for two days \\r', {'entities': [(18, 22, 'SYMPTOM'), (31, 45, 'SYMPTOM'), (134, 141, 'MEDNAME'), (158, 169, 'BEFAF'), (174, 182, 'DURATION')]}), ('Raj is not feeling good  A flat ring shaped rash has been spotted on his skin  He has chicken pox  He should take a warm bath and stay away from others as much as possible also he is prescribed to take staleth six times a day before and after each meals and also in between them for around 3 months \\r', {'entities': [(44, 48, 'SYMPTOM'), (86, 97, 'DIAGNOSIS'), (202, 209, 'MEDNAME'), (210, 225, 'INTERVAL'), (226, 253, 'BEFAF'), (290, 298, 'DURATION')]}), ('Lora has this blisters on body which is because of redness she had since past week  She should use caramel 10ml moisturizer to get back on track \\r', {'entities': [(14, 22, 'DIAGNOSIS'), (51, 58, 'SYMPTOM'), (73, 82, 'HISTORY'), (99, 111, 'MEDNAME')]}), ('Jishant is coding since last three nights and has red eyes and fatigue  He should wash his eyes with cold water and use eyesen drops 100ml every night for 1 week \\r', {'entities': [(24, 41, 'HISTORY'), (50, 58, 'SYMPTOM'), (63, 70, 'SYMPTOM'), (120, 138, 'MEDNAME'), (139, 150, 'INTERVAL'), (155, 161, 'DURATION')]}), ('Shubham is very anxious about his fractured bone  He is  advised to take some calcium powder 500mg every morning for 6 months \\r', {'entities': [(16, 23, 'SYMPTOM'), (34, 48, 'DIAGNOSIS'), (78, 98, 'MEDNAME'), (99, 112, 'INTERVAL'), (117, 125, 'DURATION')]}), ('Muscular aches which resulted in spiral disorder occurred to Chintan  He is advised to take cinort tablets 200mg after dinner for a day and simolex tablets early morning before breakfast for  weeks \\r', {'entities': [(0, 14, 'SYMPTOM'), (33, 48, 'DIAGNOSIS'), (92, 112, 'MEDNAME'), (113, 125, 'BEFAF'), (130, 135, 'DURATION'), (140, 147, 'MEDNAME'), (170, 186, 'BEFAF'), (192, 197, 'DURATION')]}),('Mr Raju has very high blood pressure because of old age  He should take ceff syrup daily for a month along with ferobex tablets  If he takes more stress then it may cause a stroke \\r', {'entities': [(17, 36, 'DIAGNOSIS'), (72, 82, 'MEDNAME'), (93, 100, 'DURATION'), (112, 127, 'MEDNAME')]}), ('Patient has a fungal infection and hence has edema on skin and redness  It could be because of sweating and heat  Applying fecalfol cream 50ml for a month will help him relieve his pain  Apply dermi cool powder as required for cooling effect \\r', {'entities': [(14, 30, 'SYMPTOM'), (45, 58, 'DIAGNOSIS'), (63, 70, 'DIAGNOSIS'), (123, 142, 'MEDNAME'), (147, 154, 'DURATION'), (193, 210, 'MEDNAME')]}), (\"Patient has bruising and a little internal bleeding  It could be because of a fall or some accident  Applying dettol antiseptic cream to the affected area  It will help him reduce his pain Don't move the affected area frequently \\r\", {'entities': [(12, 20, 'SYMPTOM'), (27, 51, 'DIAGNOSIS'), (110, 133, 'MEDNAME')]}), ('Patient has itchy skin and redness it could be because of sweating and heat  Applying candid cream 50ml for a month will help him relieve his pain \\r', {'entities': [(12, 22, 'DIAGNOSIS'), (27, 34, 'DIAGNOSIS'), (86, 103, 'MEDNAME'), (108, 115, 'DURATION')]}), ('Patient has bad sleep cycles and hence has insomnia  It could be because of stress and overwork  Take azitsa tablets and apply iodex balm on the forehead for a month\\r', {'entities': [(12, 28, 'SYMPTOM'), (43, 51, 'DIAGNOSIS'), (102, 116, 'MEDNAME'), (127, 137, 'MEDNAME'), (158, 165, 'DURATION')]}), ('Ms  Kuri is coughing since morning some couforelief 300ml will help her with pain \\r', {'entities': [(12, 20, 'DIAGNOSIS'), (40, 57, 'MEDNAME')]}), ('Old man ravish has constant back pain and diagnosed with spinal cord diseases  He is prescribed to take vitamin powder daily with milk for a month also sigmaneta 50mg twice a day Before breakfast and after dinner   Calciumoneta 10ml after dinner for at least 1 week is advisable \\r', {'entities': [(28, 37, 'SYMPTOM'), (57, 77, 'DIAGNOSIS'), (104, 118, 'MEDNAME'), (139, 146, 'DURATION'), (152, 166, 'MEDNAME'), (167, 178, 'INTERVAL'), (179, 195, 'BEFAF'), (200, 212, 'BEFAF'), (215, 232, 'MEDNAME'), (200, 212, 'BEFAF'), (259, 265, 'DURATION')]}), ('Old man ravish has dizzy eyes and diagnosed with Higher lens power  He is prescribed to take semontica daily with milk for a month also sigmaneta 50mg twice a day Before breakfast and after dinner   Calciumoneta 10ml after dinner for at least 1 week is advisable \\r', {'entities': [(19, 29, 'SYMPTOM'), (49, 66, 'DIAGNOSIS'), (93, 102, 'MEDNAME'), (123, 130, 'DURATION'), (137, 150, 'MEDNAME'), (151, 162, 'INTERVAL'), (163, 179, 'BEFAF'), (184, 196, 'BEFAF'), (199, 216, 'MEDNAME'), (243, 249, 'DURATION'), (184, 196, 'BEFAF')]}), ('Raj is studying maths since last three nights and has red eyes and is under heavy stress He should relax and chill once in a while He should take care of his eyes and use cremaffin drops every night for 2 weeks and avoid heavy sunlight\\r', {'entities': [(27, 45, 'HISTORY'), (54, 62, 'SYMPTOM'), (76, 88, 'DIAGNOSIS'), (171, 186, 'MEDNAME'), (187, 198, 'INTERVAL'), (202, 210, 'DURATION')]}), ('Bhavin is running daily since last week for his marathon and that has caused a sprain in his leg and fatigue He should avoid the marathon ad heavy exercise use cefadur ointment on the affected area every night before sleeping\\r', {'entities': [(79, 96, 'DIAGNOSIS'), (101, 109, 'DIAGNOSIS'), (160, 176, 'MEDNAME'), (198, 209, 'INTERVAL')]}),('She is suffering from  high incidence of bloody diarrhoea  Chewing lemarin will help her easy the pain Medicine needs to be taken after breakfast and lunch but before dinner along with loress for 12 days \\r', {'entities': [(23, 57, 'DIAGNOSIS'), (67, 74, 'MEDNAME'), (130, 145, 'BEFAF'), (160, 173, 'BEFAF'), (185, 191, 'MEDNAME'), (196, 203, 'DURATION')]}), ('She is suffering from  blurred vision  Taking sofradex-f will help her easy the pain Medicine needs to be taken before meals along with redoxon for a week \\r', {'entities': [(23, 37, 'DIAGNOSIS'), (46, 56, 'MEDNAME'), (112, 124, 'BEFAF'), (136, 143, 'MEDNAME'), (148, 154, 'DURATION')]}), ('She is suffering from fatigue   She is prescribed rastinon will help her easy the pain Medicine needs to be taken after breakfast and lunch but before dinner along with loress for three days  \\r', {'entities': [(22, 29, 'DIAGNOSIS'), (50, 58, 'MEDNAME'), (114, 129, 'BEFAF'), (144, 157, 'BEFAF'), (169, 175, 'MEDNAME'), (180, 190, 'DURATION')]}), ('She is suffering from jaundice  Chewing lemarin will help her easy the pain Medicine needs to be taken after lunch but before dinner along with myospas-d  every morning for 2 weeks Also physically exhausting activities are to be avoided \\r', {'entities': [(22, 30, 'DIAGNOSIS'), (40, 47, 'MEDNAME'), (103, 114, 'BEFAF'), (119, 132, 'BEFAF'), (144, 153, 'MEDNAME'), (173, 180, 'DURATION'), (155, 168, 'BEFAF')]}), ('He is suffering from skin abrasion  Taking famokan will help him feel at ease Medicine needs to be taken before meals along with redoxon for a week  \\r', {'entities': [(21, 34, 'DIAGNOSIS'), (43, 50, 'MEDNAME'), (105, 117, 'BEFAF'), (129, 136, 'MEDNAME'), (141, 147, 'DURATION')]}), ('Patient vomited once in the morning and is feeling a little dizzy  He has acalculia  For a week he should take faltidin after lunch and dinner for another half a month \\r', {'entities': [(8, 15, 'SYMPTOM'), (60, 65, 'SYMPTOM'), (74, 83, 'DIAGNOSIS'), (89, 95, 'HISTORY'), (111, 119, 'MEDNAME'), (120, 131, 'BEFAF'), (155, 167, 'DURATION')]}), ('Patient puked twice in the day and is feeling dizzy  He has dyspnea   For a week he should take eczmate f after lunch every day for a month \\r', {'entities': [(8, 13, 'SYMPTOM'), (38, 51, 'SYMPTOM'), (60, 67, 'DIAGNOSIS'), (74, 80, 'HISTORY'), (96, 105, 'MEDNAME'), (106, 117, 'BEFAF'), (132, 139, 'DURATION')]}), ('Patient is suffering from food poisoning since the morning and is feeling a little dizzy  He has trepopnea  For a week he should take faltidin after lunch and dinner every day for another half a month \\r', {'entities': [(26, 40, 'DIAGNOSIS'), (66, 88, 'SYMPTOM'), (97, 106, 'DIAGNOSIS'), (112, 118, 'HISTORY'), (134, 142, 'MEDNAME'), (143, 154, 'BEFAF'), (188, 200, 'DURATION')]}), ('Little sam is having stomach pain since yesterday evening maybe he had some junk food and now he has Food poisoning  He should consider taking loxapax for a week  Medicine needs to be taken after lunch \\r', {'entities': [(21, 33, 'SYMPTOM'), (101, 115, 'DIAGNOSIS'), (143, 150, 'MEDNAME'), (155, 161, 'DURATION'), (190, 201, 'BEFAF')]}), ('Little Pinky has been having stomach pain since yesterday morning  It seems she had some stale food and now he has an upset stomach  He should consider taking gofel for a week  Medicine needs to be taken every day after lunch  She should have healthy food only \\r', {'entities': [(29, 41, 'SYMPTOM'), (42, 57, 'HISTORY'), (118, 131, 'DIAGNOSIS'), (159, 164, 'MEDNAME'), (169, 175, 'DURATION'), (214, 225, 'BEFAF')]}), ('Mr Rane has been having stomach pain since yesterday morning  It seems he had too much liquor and now he has liver cirrhosis   He should consider taking ebiza - l for a week  Medicine needs to be taken one hour after lunch  He should have healthy food only  And no alcoholic drinks please \\r', {'entities': [(24, 36, 'SYMPTOM'), (43, 60, 'HISTORY'), (109, 124, 'DIAGNOSIS'), (153, 162, 'MEDNAME'), (167, 173, 'DURATION'), (202, 222, 'BEFAF')]}), ('Mrs  Shah has been having stomach pain  and vomiting since today morning  It is because of unhealthy eating habits She should consider taking erythrocin for a week  Medicine needs to be taken every day after lunch  She should have healthy food only \\r', {'entities': [(26, 38, 'SYMPTOM'), (44, 52, 'SYMPTOM'), (142, 152, 'MEDNAME'), (157, 163, 'DURATION'), (202, 213, 'BEFAF')]}), ('Camaron’s blood pressure crossed higher level yesterday  She is facing high blood pressure because of excessive stress and should take tenza tablet once daily for a month along with vitamica syrup \\r', {'entities': [(71, 90, 'DIAGNOSIS'), (102, 118, 'SYMPTOM'), (135, 140, 'MEDNAME'), (148, 158, 'INTERVAL'), (163, 170, 'DURATION'), (182, 196, 'MEDNAME')]}), (\"Sunil's blood pressure crossed a higher level yesterday  He is facing high blood pressure because of excessive stress and should take glyboral syrup daily in the for a month along with cefatab tablets  If he takes more stress then it may cause heart attack \\r\", {'entities': [(70, 89, 'DIAGNOSIS'), (101, 117, 'SYMPTOM'), (134, 148, 'MEDNAME'), (166, 173, 'DURATION'), (185, 200, 'MEDNAME')]}), ('Shruti has low blood pressure and needs to be completely under supervision  She and should take grandem tablet once daily for a month \\r', {'entities': [(11, 29, 'DIAGNOSIS'), (96, 110, 'MEDNAME'), (111, 121, 'INTERVAL'), (126, 133, 'DURATION')]}),('He has high fever since past 3 days suffering from malaria. He is prescribed to take Crocin thrice a day for two days after meals.\\r', {'entities': [(7, 17, 'SYMPTOM'), (24, 35, 'HISTORY'), (51, 58, 'DIAGNOSIS'), (85, 91, 'MEDNAME'), (92, 104, 'INTERVAL'), (109, 117, 'INTERVAL'), (118, 129, 'BEFAF')]}), ('He has runny nose and cough for the past 4 days suffering from common cold. He is prescribed to take Acutram twice a day for a week after meals. \\r', {'entities': [(7, 17, 'SYMPTOM'), (22, 27, 'SYMPTOM'), (35, 47, 'HISTORY'), (63, 74, 'DIAGNOSIS'), (101, 108, 'MEDNAME'), (109, 120, 'INTERVAL'), (125, 131, 'DURATION'), (132, 143, 'BEFAF')]}), ('He has had a high fever for the past 2 days suffering from yellow fever.He is prescribed to take amiodon thrice a day for every other day before meals.\\r', {'entities': [(13, 23, 'SYMPTOM'), (32, 43, 'HISTORY'), (59, 71, 'DIAGNOSIS'), (97, 104, 'MEDNAME'), (105, 117, 'INTERVAL'), (138, 150, 'BEFAF')]}), ('He has had a high fever for the past 2 days suffering from yellow fever.He is prescribed to take hipenox before bedtime.\\r', {'entities': [(13, 23, 'SYMPTOM'), (32, 43, 'HISTORY'), (59, 71, 'DIAGNOSIS'), (97, 104, 'MEDNAME'), (105, 119, 'BEFAF')]}), ('Patient is having runny nose and red eyes but there is no fever he is diagnosed with measles and advice to take lirinox two times a day for 2 days before breakfast and after dinner and lapin-d thrice a day for five days after each meal.\\r', {'entities': [(18, 28, 'SYMPTOM'), (33, 41, 'SYMPTOM'), (55, 63, 'SYMPTOM'), (85, 92, 'DIAGNOSIS'), (112, 119, 'MEDNAME'), (120, 135, 'INTERVAL'), (140, 146, 'DURATION'), (147, 163, 'BEFAF'), (168, 180, 'BEFAF'), (185, 192, 'MEDNAME'), (193, 205, 'DURATION'), (210, 219, 'DURATION'), (220, 235, 'BEFAF')]}), ('He has high fever since past 3 days suffering from malaria. He is prescribed to take mucomix. thrice a day for every other day after meals.\\r', {'entities': [(7, 17, 'SYMPTOM'), (24, 35, 'HISTORY'), (51, 58, 'DIAGNOSIS'), (85, 92, 'MEDNAME'), (94, 106, 'INTERVAL'), (127, 138, 'BEFAF')]}), ('Patient is having blocked nose and watery eyes but there is no sore throat he is diagnosed with influenza and advice to take sporidex three times a day for a week before lunch and before dinner and alcalm 500 mg  twice a day for a week after each meal.\\r', {'entities': [(18, 30, 'SYMPTOM'), (35, 46, 'SYMPTOM'), (60, 74, 'SYMPTOM'), (96, 105, 'DIAGNOSIS'), (125, 133, 'MEDNAME'), (134, 151, 'INTERVAL'), (156, 162, 'DURATION'), (163, 175, 'BEFAF'), (180, 193, 'BEFAF'), (198, 211, 'MEDNAME'), (213, 224, 'INTERVAL'), (156, 162, 'DURATION'), (236, 251, 'BEFAF')]}), ('Patient is having blocked nose and watery eyes but there is no fever he is diagnosed with influenza and advice to take alzex  three times a day for a week before lunch and before dinner and alcalm 500 mg  twice a day for a week after each meal.\\r', {'entities': [(18, 30, 'SYMPTOM'), (35, 46, 'SYMPTOM'), (60, 68, 'SYMPTOM'), (90, 99, 'DIAGNOSIS'), (119, 124, 'MEDNAME'), (126, 143, 'INTERVAL'), (148, 154, 'DURATION'), (155, 167, 'BEFAF'), (172, 185, 'BEFAF'), (190, 203, 'MEDNAME'), (205, 216, 'INTERVAL'), (148, 154, 'DURATION'), (228, 243, 'BEFAF')]}), ('He has high fever since past 2 days suffering from measles. He is prescribed to take milflox plus thrice a day for two days after meals.\\r', {'entities': [(7, 17, 'SYMPTOM'), (24, 35, 'HISTORY'), (51, 58, 'DIAGNOSIS'), (85, 97, 'MEDNAME'), (98, 110, 'INTERVAL'), (115, 123, 'DURATION'), (124, 135, 'BEFAF')]}), ('He has high fever since past 5 days suffering from measles. He is prescribed to take sparzid four times a day for two days after meals.\\r', {'entities': [(7, 17, 'SYMPTOM'), (24, 35, 'HISTORY'), (51, 58, 'DIAGNOSIS'), (85, 92, 'MEDNAME'), (93, 109, 'INTERVAL'), (114, 122, 'DURATION'), (123, 134, 'BEFAF')]}), ('Mr. Karun is having minor headache since morning and he is also feeling Nausea since past few days he should take lyto after lunch for a day or two till he feels better.\\r', {'entities': [(20, 34, 'SYMPTOM'), (72, 78, 'SYMPTOM'), (85, 98, 'HISTORY'), (114, 118, 'MEDNAME'), (119, 130, 'BEFAF'), (135, 140, 'DURATION')]}), ('Mr. Karun is having sneezes since morning and he is also feeling dizziness since past 3 days he should take azithromycin after lunch for a day or two till he feels better.\\r', {'entities': [(20, 27, 'SYMPTOM'), (65, 74, 'SYMPTOM'), (81, 92, 'HISTORY'), (108, 120, 'MEDNAME'), (121, 132, 'BEFAF'), (137, 142, 'DURATION')]}), ('Ms. Kaur is having minor stomach ache since last night and she is also feeling Nausea since past few days she should take roko after lunch for two days.\\r', {'entities': [(25, 37, 'SYMPTOM'), (79, 85, 'SYMPTOM'), (92, 105, 'HISTORY'), (122, 126, 'MEDNAME'), (127, 138, 'BEFAF'), (143, 151, 'DURATION')]}), ('Patient vomited once in morning and is feeling little dizzy he has coronavirus. For a week he should take labclox after lunch and dinner for another half a month.\\r', {'entities': [(8, 13, 'SYMPTOM'), (54, 59, 'SYMPTOM'), (67, 78, 'DIAGNOSIS'), (84, 90, 'DURATION'), (106, 113, 'MEDNAME'), (114, 125, 'BEFAF'), (130, 136, 'BEFAF'), (149, 161, 'DURATION')]})]\n",
        "def train_spacy(data):\n",
        "    TRAIN_DATA = data\n",
        "    nlp = spacy.blank('en')  # create blank Language class\n",
        "    # create the built-in pipeline components and add them to the pipeline\n",
        "    # nlp.create_pipe works for built-ins that are registered with spaCy\n",
        "    if 'ner' not in nlp.pipe_names:\n",
        "        ner = nlp.create_pipe('ner')\n",
        "        nlp.add_pipe(ner, last=True)\n",
        "       \n",
        "\n",
        "    # add labels\n",
        "    for _, annotations in TRAIN_DATA:\n",
        "         for ent in annotations.get(\"entities\"):\n",
        "            ner.add_label(ent[2])\n",
        "\n",
        "    # get names of other pipes to disable them during training\n",
        "    other_pipes = [pipe for pipe in nlp.pipe_names if pipe != 'ner']\n",
        "    with nlp.disable_pipes(*other_pipes):  # only train NER\n",
        "        optimizer = nlp.begin_training()\n",
        "        for itn in range(50):\n",
        "            print(\"Starting iteration \" + str(itn))\n",
        "            random.shuffle(TRAIN_DATA)\n",
        "            losses = {}\n",
        "            for text, annotations in TRAIN_DATA:\n",
        "                nlp.update(\n",
        "                    [text],  # batch of texts\n",
        "                    [annotations],  # batch of annotations\n",
        "                    drop=0.2,  # dropout - make it harder to memorise data\n",
        "                    sgd=optimizer,  # callable to update weights\n",
        "                    losses=losses)\n",
        "            print(losses)\n",
        "    return nlp\n",
        "\n",
        "\n",
        "prdnlp = train_spacy(TRAIN_DATA)\n"
      ],
      "execution_count": 0,
      "outputs": [
        {
          "output_type": "stream",
          "text": [
            "Starting iteration 0\n",
            "{'ner': 806.9541850412166}\n",
            "Starting iteration 1\n",
            "{'ner': 620.4200185069838}\n",
            "Starting iteration 2\n",
            "{'ner': 488.64071155968884}\n",
            "Starting iteration 3\n",
            "{'ner': 449.6063924816309}\n",
            "Starting iteration 4\n",
            "{'ner': 426.3860519065496}\n",
            "Starting iteration 5\n",
            "{'ner': 230.34863552314502}\n",
            "Starting iteration 6\n",
            "{'ner': 209.61749234974738}\n",
            "Starting iteration 7\n",
            "{'ner': 128.3038086078239}\n",
            "Starting iteration 8\n",
            "{'ner': 135.5008121888929}\n",
            "Starting iteration 9\n",
            "{'ner': 86.51755433122399}\n",
            "Starting iteration 10\n",
            "{'ner': 93.53600410313061}\n",
            "Starting iteration 11\n",
            "{'ner': 70.07669247244269}\n",
            "Starting iteration 12\n",
            "{'ner': 83.19717236912292}\n",
            "Starting iteration 13\n",
            "{'ner': 47.30240416887722}\n",
            "Starting iteration 14\n",
            "{'ner': 46.611985797408586}\n",
            "Starting iteration 15\n",
            "{'ner': 42.140842149627105}\n",
            "Starting iteration 16\n",
            "{'ner': 40.17488552366624}\n",
            "Starting iteration 17\n",
            "{'ner': 30.527656020857403}\n",
            "Starting iteration 18\n",
            "{'ner': 47.79045373700292}\n",
            "Starting iteration 19\n",
            "{'ner': 50.08852900980096}\n",
            "Starting iteration 20\n",
            "{'ner': 35.7571030462178}\n",
            "Starting iteration 21\n",
            "{'ner': 49.410331106760644}\n",
            "Starting iteration 22\n",
            "{'ner': 23.370429426804044}\n",
            "Starting iteration 23\n",
            "{'ner': 17.89858026366844}\n",
            "Starting iteration 24\n",
            "{'ner': 29.844586654314302}\n",
            "Starting iteration 25\n",
            "{'ner': 24.717362805596338}\n",
            "Starting iteration 26\n",
            "{'ner': 25.153474680744324}\n",
            "Starting iteration 27\n",
            "{'ner': 18.231639987367025}\n",
            "Starting iteration 28\n",
            "{'ner': 22.28160692797988}\n",
            "Starting iteration 29\n",
            "{'ner': 22.75341276653869}\n",
            "Starting iteration 30\n",
            "{'ner': 42.917215018418446}\n",
            "Starting iteration 31\n",
            "{'ner': 18.856577991139115}\n",
            "Starting iteration 32\n",
            "{'ner': 23.82460048883281}\n",
            "Starting iteration 33\n",
            "{'ner': 38.909532738004096}\n",
            "Starting iteration 34\n",
            "{'ner': 19.78413092592018}\n",
            "Starting iteration 35\n",
            "{'ner': 28.228318592818308}\n",
            "Starting iteration 36\n",
            "{'ner': 13.099492627364548}\n",
            "Starting iteration 37\n",
            "{'ner': 20.352824064069928}\n",
            "Starting iteration 38\n",
            "{'ner': 19.5225721278651}\n",
            "Starting iteration 39\n",
            "{'ner': 26.588621481760416}\n",
            "Starting iteration 40\n",
            "{'ner': 19.72694015127202}\n",
            "Starting iteration 41\n",
            "{'ner': 33.41448797123996}\n",
            "Starting iteration 42\n",
            "{'ner': 7.288565719749055}\n",
            "Starting iteration 43\n",
            "{'ner': 14.491331165420387}\n",
            "Starting iteration 44\n",
            "{'ner': 12.633377984830847}\n",
            "Starting iteration 45\n",
            "{'ner': 18.9545610311989}\n",
            "Starting iteration 46\n",
            "{'ner': 6.409886280171896}\n",
            "Starting iteration 47\n",
            "{'ner': 10.458659928492537}\n",
            "Starting iteration 48\n",
            "{'ner': 22.565233100169927}\n",
            "Starting iteration 49\n",
            "{'ner': 16.787137830543386}\n"
          ],
          "name": "stdout"
        }
      ]
    },
    {
      "cell_type": "markdown",
      "metadata": {
        "id": "NIboPO848TGp",
        "colab_type": "text"
      },
      "source": [
        "## **Test it!**"
      ]
    },
    {
      "cell_type": "code",
      "metadata": {
        "id": "KTdXCmqmlm-f",
        "colab_type": "code",
        "outputId": "670bb1bb-6b0b-4a34-d8c9-50df4222fc8e",
        "colab": {
          "base_uri": "https://localhost:8080/",
          "height": 105
        }
      },
      "source": [
        "test_text = input(\"Enter your testing text: \")\n",
        "doc = prdnlp(test_text)\n",
        "for ent in doc.ents:\n",
        "    print(ent.text, ent.start_char, ent.end_char, ent.label_)\n",
        "    "
      ],
      "execution_count": 0,
      "outputs": [
        {
          "output_type": "stream",
          "text": [
            "Enter your testing text: patient has itchy skin and redness it could be because of sweating and heat applying candid cream 50ml for a month will help him relieve his pain\n",
            "itchy skin 12 22 DIAGNOSIS\n",
            "candid cream 50ml 85 102 MEDNAME\n",
            "a month 107 114 DURATION\n"
          ],
          "name": "stdout"
        }
      ]
    },
    {
      "cell_type": "code",
      "metadata": {
        "id": "Bp4KSvkgtoPu",
        "colab_type": "code",
        "outputId": "e906097a-5ad6-417d-a70c-4d774a9917f9",
        "colab": {
          "base_uri": "https://localhost:8080/",
          "height": 119
        }
      },
      "source": [
        "test_text = input(\"Enter your testing text: \")\n",
        "doc = prdnlp(test_text)\n",
        "for ent in doc.ents:\n",
        "    print(ent.text, ent.start_char, ent.end_char, ent.label_)\n",
        "    "
      ],
      "execution_count": 0,
      "outputs": [
        {
          "output_type": "stream",
          "text": [
            "Enter your testing text: he has watery eyes since past 2 days suggested to take pyrimon 10 ml three times a day for a week\n",
            "watery eyes 7 18 SYMPTOM\n",
            "past 2 days 25 36 HISTORY\n",
            "pyrimon 10 55 65 MEDNAME\n",
            "three times a day 69 86 INTERVAL\n",
            "a week 91 97 DURATION\n"
          ],
          "name": "stdout"
        }
      ]
    },
    {
      "cell_type": "markdown",
      "metadata": {
        "id": "PgRVYYK_8eVn",
        "colab_type": "text"
      },
      "source": [
        "## **Save the model**"
      ]
    },
    {
      "cell_type": "code",
      "metadata": {
        "id": "TC9pqVYMu0EL",
        "colab_type": "code",
        "outputId": "675fa41b-1bc8-46ba-a995-887fa0f2a2e9",
        "colab": {
          "base_uri": "https://localhost:8080/",
          "height": 122
        }
      },
      "source": [
        "from google.colab import drive\n",
        "drive.mount('/content/drive')"
      ],
      "execution_count": 0,
      "outputs": [
        {
          "output_type": "stream",
          "text": [
            "Go to this URL in a browser: https://accounts.google.com/o/oauth2/auth?client_id=947318989803-6bn6qk8qdgf4n4g3pfee6491hc0brc4i.apps.googleusercontent.com&redirect_uri=urn%3aietf%3awg%3aoauth%3a2.0%3aoob&response_type=code&scope=email%20https%3a%2f%2fwww.googleapis.com%2fauth%2fdocs.test%20https%3a%2f%2fwww.googleapis.com%2fauth%2fdrive%20https%3a%2f%2fwww.googleapis.com%2fauth%2fdrive.photos.readonly%20https%3a%2f%2fwww.googleapis.com%2fauth%2fpeopleapi.readonly\n",
            "\n",
            "Enter your authorization code:\n",
            "··········\n",
            "Mounted at /content/drive\n"
          ],
          "name": "stdout"
        }
      ]
    },
    {
      "cell_type": "code",
      "metadata": {
        "id": "nt3R4gtvJI6Y",
        "colab_type": "code",
        "colab": {}
      },
      "source": [
        "prdnlp.to_disk('drive/My Drive/Solve4Bharat')"
      ],
      "execution_count": 0,
      "outputs": []
    }
  ]
}